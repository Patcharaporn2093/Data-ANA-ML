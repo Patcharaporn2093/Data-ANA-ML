{
  "nbformat": 4,
  "nbformat_minor": 0,
  "metadata": {
    "colab": {
      "provenance": [],
      "authorship_tag": "ABX9TyMa8pT+OSsf9JsUpom1W2yP",
      "include_colab_link": true
    },
    "kernelspec": {
      "name": "python3",
      "display_name": "Python 3"
    },
    "language_info": {
      "name": "python"
    }
  },
  "cells": [
    {
      "cell_type": "markdown",
      "metadata": {
        "id": "view-in-github",
        "colab_type": "text"
      },
      "source": [
        "<a href=\"https://colab.research.google.com/github/Patcharaporn2093/Data-ANA-ML/blob/main/Negative_Language_Identification_(Semi_Supervised).ipynb\" target=\"_parent\"><img src=\"https://colab.research.google.com/assets/colab-badge.svg\" alt=\"Open In Colab\"/></a>"
      ]
    },
    {
      "cell_type": "markdown",
      "source": [
        "# The Challenge\n",
        "In this task of \"Negative Language Identification,\" your objective is to develop models that can accurately identify and classify instances of negative language within a given text. The goal is to achieve the closest possible match to the given labels, indicating the presence of negative language. The task is focused on semi-supervised learning, which utilizes unlabeled data to enhance model efficiency, and binary classification, with text samples labeled as either 0 (non-toxic) or 1 (toxic)."
      ],
      "metadata": {
        "id": "IRxkEVXJCSe6"
      }
    },
    {
      "cell_type": "code",
      "source": [
        "!gdown 1YR-Q7kmXcj2OYQi1LVfEwaCxnQ8NaFx5\n",
        "!gdown 1qdEPsd92kYXXXy-HFNkD5YS6FfqwucYp"
      ],
      "metadata": {
        "colab": {
          "base_uri": "https://localhost:8080/"
        },
        "id": "wN24Mllhw6dl",
        "outputId": "836f3206-6570-477c-a5bc-bd003149ddf0"
      },
      "execution_count": null,
      "outputs": [
        {
          "output_type": "stream",
          "name": "stdout",
          "text": [
            "Downloading...\n",
            "From: https://drive.google.com/uc?id=1YR-Q7kmXcj2OYQi1LVfEwaCxnQ8NaFx5\n",
            "To: /content/train.csv\n",
            "100% 3.61M/3.61M [00:00<00:00, 142MB/s]\n",
            "Downloading...\n",
            "From: https://drive.google.com/uc?id=1qdEPsd92kYXXXy-HFNkD5YS6FfqwucYp\n",
            "To: /content/test.csv\n",
            "100% 762k/762k [00:00<00:00, 71.5MB/s]\n"
          ]
        }
      ]
    },
    {
      "cell_type": "code",
      "source": [
        "!pip install nltk\n",
        "!pip install contractions"
      ],
      "metadata": {
        "colab": {
          "base_uri": "https://localhost:8080/"
        },
        "id": "i97SYN8T32T5",
        "outputId": "dc2495ac-760a-4413-df2e-af4d0041505e"
      },
      "execution_count": null,
      "outputs": [
        {
          "output_type": "stream",
          "name": "stdout",
          "text": [
            "Requirement already satisfied: nltk in /usr/local/lib/python3.10/dist-packages (3.8.1)\n",
            "Requirement already satisfied: click in /usr/local/lib/python3.10/dist-packages (from nltk) (8.1.7)\n",
            "Requirement already satisfied: joblib in /usr/local/lib/python3.10/dist-packages (from nltk) (1.3.2)\n",
            "Requirement already satisfied: regex>=2021.8.3 in /usr/local/lib/python3.10/dist-packages (from nltk) (2023.12.25)\n",
            "Requirement already satisfied: tqdm in /usr/local/lib/python3.10/dist-packages (from nltk) (4.66.2)\n",
            "Requirement already satisfied: contractions in /usr/local/lib/python3.10/dist-packages (0.1.73)\n",
            "Requirement already satisfied: textsearch>=0.0.21 in /usr/local/lib/python3.10/dist-packages (from contractions) (0.0.24)\n",
            "Requirement already satisfied: anyascii in /usr/local/lib/python3.10/dist-packages (from textsearch>=0.0.21->contractions) (0.3.2)\n",
            "Requirement already satisfied: pyahocorasick in /usr/local/lib/python3.10/dist-packages (from textsearch>=0.0.21->contractions) (2.0.0)\n"
          ]
        }
      ]
    },
    {
      "cell_type": "code",
      "source": [
        "import pandas as pd\n",
        "import numpy as np\n",
        "import contractions\n",
        "import re\n",
        "from sklearn.feature_extraction.text import TfidfVectorizer\n",
        "from sklearn.model_selection import train_test_split\n",
        "from sklearn.linear_model import LogisticRegression\n",
        "from sklearn.metrics import classification_report\n",
        "from scipy.sparse import vstack\n",
        "\n",
        "# Define the clean_text function for preprocessing text data\n",
        "def clean_text(text):\n",
        "    text = str(text) if pd.notnull(text) else ''\n",
        "    text = text.lower()\n",
        "    text = contractions.fix(text)\n",
        "    text = re.sub(r'[^\\w\\s]', '', text)\n",
        "    text = re.sub(r'[^\\x00-\\x7F]+', '', text)\n",
        "    text = re.sub(r'\\s+', ' ', text).strip()\n",
        "    return text\n",
        "\n",
        "# Load and preprocess the data\n",
        "train = pd.read_csv('train.csv')\n",
        "test = pd.read_csv('test.csv')\n",
        "\n",
        "# Apply the clean_text function\n",
        "train['comment_text'] = train['comment_text'].apply(clean_text)\n",
        "test['comment_text'] = test['comment_text'].apply(clean_text)\n",
        "\n",
        "# Ensure 'toxic' column only contains numeric values. Non-numeric values are set to NaN and then removed.\n",
        "train['toxic'] = pd.to_numeric(train['toxic'], errors='coerce')\n",
        "train.dropna(subset=['toxic'], inplace=True)\n",
        "\n",
        "# Convert 'toxic' to integer type\n",
        "y_train = train['toxic'].astype(int)\n",
        "\n",
        "# Continue with vectorization and model training as before\n",
        "vectorizer = TfidfVectorizer(stop_words='english', max_features=5000, ngram_range=(1, 2))\n",
        "X_train = vectorizer.fit_transform(train['comment_text'])\n",
        "\n",
        "model = LogisticRegression(max_iter=10000)\n",
        "model.fit(X_train, y_train)\n",
        "\n",
        "# Predict on the test (unlabeled) data to generate pseudo-labels\n",
        "X_test = vectorizer.transform(test['comment_text'])\n",
        "test_predictions_proba = model.predict_proba(X_test)\n",
        "\n",
        "# Apply a confidence threshold to select high-confidence predictions\n",
        "confidence_threshold = 0.95\n",
        "high_confidence_indices = np.where(test_predictions_proba.max(axis=1) > confidence_threshold)[0]\n",
        "pseudo_labels = np.argmax(test_predictions_proba[high_confidence_indices], axis=1)\n",
        "\n",
        "# Combine the pseudo-labeled data with the original training data, maintaining sparse format\n",
        "X_combined = vstack([X_train, X_test[high_confidence_indices]])\n",
        "y_combined = np.concatenate([y_train, pseudo_labels])  # Ensure all labels are numeric\n",
        "\n",
        "# Re-train the model on the combined dataset\n",
        "model.fit(X_combined, y_combined)\n",
        "\n",
        "# Predict on the test dataset for submission\n",
        "final_predictions = model.predict(X_test)\n",
        "\n",
        "# Create submission file\n",
        "submission_df = pd.DataFrame({'id': test['id'], 'toxic': final_predictions})\n",
        "submission_df.to_csv('submission_semi_supervised.csv', index=False)\n",
        "print(\"Submission file with semi-supervised learning saved as 'submission_semi_supervised.csv'.\")\n"
      ],
      "metadata": {
        "colab": {
          "base_uri": "https://localhost:8080/"
        },
        "id": "u4etevIGJV32",
        "outputId": "38a8d196-75ea-4a47-83c0-7a9b8f524df1"
      },
      "execution_count": null,
      "outputs": [
        {
          "output_type": "stream",
          "name": "stdout",
          "text": [
            "Submission file with semi-supervised learning saved as 'submission_semi_supervised.csv'.\n"
          ]
        }
      ]
    }
  ]
}