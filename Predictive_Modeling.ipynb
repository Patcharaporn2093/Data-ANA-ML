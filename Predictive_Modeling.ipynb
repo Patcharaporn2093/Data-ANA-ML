{
  "nbformat": 4,
  "nbformat_minor": 0,
  "metadata": {
    "colab": {
      "provenance": [],
      "authorship_tag": "ABX9TyNFK//xJ9OZ5/3asgQEfaKl",
      "include_colab_link": true
    },
    "kernelspec": {
      "name": "python3",
      "display_name": "Python 3"
    },
    "language_info": {
      "name": "python"
    },
    "accelerator": "TPU"
  },
  "cells": [
    {
      "cell_type": "markdown",
      "metadata": {
        "id": "view-in-github",
        "colab_type": "text"
      },
      "source": [
        "<a href=\"https://colab.research.google.com/github/Patcharaporn2093/Data-ANA-ML/blob/main/Predictive_Modeling.ipynb\" target=\"_parent\"><img src=\"https://colab.research.google.com/assets/colab-badge.svg\" alt=\"Open In Colab\"/></a>"
      ]
    },
    {
      "cell_type": "markdown",
      "source": [
        "In this challenge, you will be provided with a carefully curated dataset that spans a real-world problem. Your mission is to develop and fine-tune machine learning algorithms to predict a target variable based on the given features.\n",
        "\n",
        "The dataset for this competition has been anonymously collected. The input data is composed on categorial (Major) and numeric (Year and Score?). Changes to feature selection process are welcomed.\n",
        "\n",
        "Data contains information about students' performance in one semester. Major is a number code that indicates the field of study the students are enrolling. Year is a number of year in school. Score1 to Score16 are scores students get for each assignment. The maximum score for each assignment is 15. A missing value means that students do not turn in that assignment. Final is the final examination score. This field is what we want to predict. Train data will provide all information while test data will not provide Final column.\n",
        "\n",
        "Your objective is to write a python code for predicting Final score from other features."
      ],
      "metadata": {
        "id": "wadKSu3qI8Dy"
      }
    },
    {
      "cell_type": "code",
      "source": [
        "import requests\n",
        "\n",
        "url = 'https://drive.google.com/uc?id=1PwJSq3x_v-YyDrYssWDWLETM5xc4n0iS'\n",
        "output = 'train.csv'\n",
        "\n",
        "response = requests.get(url)\n",
        "with open(output, 'wb') as f:\n",
        "    f.write(response.content)"
      ],
      "metadata": {
        "id": "SjEBkXaDf9n9"
      },
      "execution_count": 1,
      "outputs": []
    },
    {
      "cell_type": "code",
      "source": [
        "import requests\n",
        "\n",
        "url = 'https://drive.google.com/uc?id=1J4QZDzTmQ97Ijr4ZUKlCZoRhpYKYCYjt'\n",
        "output = 'test.csv'\n",
        "\n",
        "response = requests.get(url)\n",
        "with open(output, 'wb') as f:\n",
        "    f.write(response.content)\n"
      ],
      "metadata": {
        "id": "Cz060nygfjOr"
      },
      "execution_count": 3,
      "outputs": []
    },
    {
      "cell_type": "code",
      "source": [
        "# 1. Import\n",
        "import pandas as pd\n",
        "from sklearn.model_selection import train_test_split\n",
        "from sklearn.linear_model import LinearRegression\n",
        "from sklearn.impute import SimpleImputer\n",
        "from sklearn.compose import ColumnTransformer\n",
        "\n",
        "# 2. โหลดข้อมูล\n",
        "data_train = pd.read_csv('train.csv')  # โหลดข้อมูลการฝึก (training set)\n",
        "data_test = pd.read_csv('test.csv')    # โหลดข้อมูลทดสอบ (test set)\n",
        "\n",
        "# 3. แทนที่ค่าที่ขาดหายด้วยเลข 0\n",
        "data_train = data_train.fillna(0)\n",
        "data_test = data_test.fillna(0)\n",
        "\n",
        "# 4. แบ่งข้อมูลเป็น Features และ Target Variable ในชุดข้อมูลการฝึก\n",
        "X = data_train.drop(['ID', 'Final'], axis=1)\n",
        "y = data_train['Final']\n",
        "\n",
        "# 5. ดำเนินการก่อนประมวลผลข้อมูล - จัดการกับค่าที่ขาดหายและปรับขนาดคุณลักษณะ\n",
        "numeric_cols = X.select_dtypes(include=['number']).columns\n",
        "categorical_cols = X.select_dtypes(include=['object']).columns\n",
        "\n",
        "# 6. แทนที่ค่าที่ขาดหายด้วย 0 สำหรับคอลัมน์ที่เป็นตัวเลข\n",
        "numeric_transformer = SimpleImputer(strategy='constant', fill_value=0)\n",
        "\n",
        "# 7. ใช้ SimpleImputer เพื่อจัดการค่าที่ขาดหายและทำการ one-hot encode สำหรับคอลัมน์ที่เป็นข้อความ\n",
        "categorical_transformer = SimpleImputer(strategy='constant', fill_value='missing')\n",
        "\n",
        "# 8. รวม transformers เพื่อสร้าง preprocessor โดยใช้ ColumnTransformer\n",
        "preprocessor = ColumnTransformer(\n",
        "    transformers=[\n",
        "        ('num', numeric_transformer, numeric_cols),\n",
        "        ('cat', categorical_transformer, categorical_cols)\n",
        "    ])\n",
        "\n",
        "# 9. ใช้ preprocessor เพื่อ fit และ transform ข้อมูลการฝึก\n",
        "X_preprocessed = preprocessor.fit_transform(X)\n",
        "\n",
        "# 10. ใช้ RandomForestRegressor เป็นโมเดล\n",
        "model = LinearRegression()\n",
        "\n",
        "# 11. Fit โมเดลกับข้อมูลการฝึกที่ผ่านการประมวลผลแล้ว\n",
        "model.fit(X_preprocessed, y)\n",
        "\n",
        "# 12. ทำการประมวลผลข้อมูลทดสอบ\n",
        "X_test = data_test.drop('ID', axis=1)\n",
        "X_test_preprocessed = preprocessor.transform(X_test)\n",
        "\n",
        "# 13. ทำการทำนายผลลัพธ์บนข้อมูลทดสอบ\n",
        "test_preds = model.predict(X_test_preprocessed)\n",
        "\n",
        "# 14. สร้าง DataFrame สำหรับไฟล์ submission\n",
        "submission_data_linear = pd.DataFrame({'ID': data_test['ID'], 'Final': test_preds})\n",
        "\n",
        "# 15. บันทึกไฟล์ submission\n",
        "submission_data_linear.to_csv('submission_linear.csv', index=False)"
      ],
      "metadata": {
        "id": "EnXM8GMOOK-1"
      },
      "execution_count": 4,
      "outputs": []
    }
  ]
}